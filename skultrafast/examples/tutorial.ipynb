{
 "cells": [
  {
   "cell_type": "markdown",
   "metadata": {},
   "source": [
    "# Tutorial: skultrafast.dataset\n",
    "\n",
    "skultrafast is a package mainly for working with time-resolved spectra. The notebook shows how to\n",
    "use the new dataset-class to work with such a spectra and to fit it with a exponetial model. First we import\n",
    "the necessary modules and configure matplotlib to show inline graphics."
   ]
  },
  {
   "cell_type": "code",
   "execution_count": null,
   "metadata": {},
   "outputs": [],
   "source": [
    "import numpy as np\n",
    "import matplotlib.pyplot as plt\n",
    "plt.rcParams['figure.dpi'] = 150\n",
    "from skultrafast.dataset import DataSet\n",
    "import skultrafast\n",
    "from skultrafast import data_io\n",
    "print(skultrafast.__file__)\n",
    "skultrafast.__version__"
   ]
  },
  {
   "cell_type": "markdown",
   "metadata": {},
   "source": [
    "## Creating a DataSet\n",
    "In this tuturial we use the example data which is provided by *skultrafast*. "
   ]
  },
  {
   "cell_type": "code",
   "execution_count": null,
   "metadata": {},
   "outputs": [],
   "source": [
    "wavelengths, t_ps, data_mOD = data_io.load_example()"
   ]
  },
  {
   "cell_type": "markdown",
   "metadata": {},
   "source": [
    "Lets look at the constructor of the `DataSet` class:"
   ]
  },
  {
   "cell_type": "code",
   "execution_count": null,
   "metadata": {},
   "outputs": [],
   "source": [
    "?DataSet"
   ]
  },
  {
   "cell_type": "markdown",
   "metadata": {},
   "source": [
    "As we see, we have all the necessay variables, additionlly we can name the dataset. Since the `freq_unit` defaults to 'nm' we don't need to supply this argument."
   ]
  },
  {
   "cell_type": "code",
   "execution_count": null,
   "metadata": {},
   "outputs": [],
   "source": [
    "ds = DataSet(wavelengths, t_ps, data_mOD, name=\"Al(tpfc)(py)_2\")"
   ]
  },
  {
   "cell_type": "markdown",
   "metadata": {},
   "source": [
    "## Overview\n",
    "\n",
    "To get an general idea of a transient spectra is to plot some data.  All plotting functions are in the `DataSet.plot` object, which is an instance of `DataSetPlotter`. The plotting functions are using the `disp_freq_unit` of the dataset as frequency scale by default. This can be changed by changing the `disp_freq_unit` of the `DataSetPlotter` object. "
   ]
  },
  {
   "cell_type": "code",
   "execution_count": null,
   "metadata": {},
   "outputs": [],
   "source": [
    "ds.plot.disp_freq_unit = 'nm' # does nothing, since 'nm' is the default\n",
    "# ds.plot.disp_freq_unit = 'cm' would use wavenumbers"
   ]
  },
  {
   "cell_type": "markdown",
   "metadata": {},
   "source": [
    "First, we want to check if the dataset is corrected for dispersion. For that we plot a colormap around the time-zero. "
   ]
  },
  {
   "cell_type": "code",
   "execution_count": null,
   "metadata": {},
   "outputs": [],
   "source": [
    "ds.plot.map(symlog=0, con_step=10., con_filter=(3, 10))\n",
    "plt.ylim(-2, 2)"
   ]
  },
  {
   "cell_type": "markdown",
   "metadata": {},
   "source": [
    "Evidently, the dataset is not corrected for dispersion. Since it is easier to work with a dispersion corrected dataset, we try to get an estimate of the dispersion using the data directly. \n",
    "\n",
    "*skultrafast* does this by first using a simple heuristic for determining the time-zero for each transient. The resulting dispersion curve is then fitted with a polynomial, using a robust fitting method. More details are given in the documentation."
   ]
  },
  {
   "cell_type": "code",
   "execution_count": null,
   "metadata": {},
   "outputs": [],
   "source": [
    "# First calculate and plot the estimate.\n",
    "res = ds.estimate_dispersion(heuristic_args=(1.5,), deg=2)\n",
    "ds.plot.map(symlog=0, con_step=10., con_filter=(3, 10))\n",
    "plt.ylim(-2, 2)\n",
    "plt.plot(ds.wavelengths, res.polynomial(ds.wavenumbers)) #The polynomial is defined in wavenumbers\n",
    "plt.plot(ds.wavelengths, res.tn)"
   ]
  },
  {
   "cell_type": "markdown",
   "metadata": {},
   "source": [
    "By default, *skultrafast* uses a very simple heuristic to find the time-zero. It looks for the earliest value above a given limit in each transient, and therefore underestimates the time-zero systematically. Therefore we slightly shift the time-zero. \n",
    "\n",
    "This generallay works surprinsingly well. But if the exact time-zero is necessary, I recommend to try other methods or measure the dispersion directly.\n",
    "\n",
    "**WARNING**: The cell below changes the dataset inplace. Therefore repeated calls to the cell will shift the time-zero again and again."
   ]
  },
  {
   "cell_type": "code",
   "execution_count": null,
   "metadata": {},
   "outputs": [],
   "source": [
    "new_ds = res.correct_ds #warning, this is no copy\n",
    "new_ds.t -= 0.2"
   ]
  },
  {
   "cell_type": "code",
   "execution_count": null,
   "metadata": {},
   "outputs": [],
   "source": [
    "new_ds.plot.map(con_step=10., con_filter=(3, 5))"
   ]
  },
  {
   "cell_type": "code",
   "execution_count": null,
   "metadata": {},
   "outputs": [],
   "source": [
    "res.correct_ds.plot.spec([-.2, 0.05, 0.3, 1, 2, 150])"
   ]
  },
  {
   "cell_type": "code",
   "execution_count": null,
   "metadata": {},
   "outputs": [],
   "source": [
    "res.correct_ds.plot.trans([500, 620, 680], symlog=1)"
   ]
  },
  {
   "cell_type": "markdown",
   "metadata": {},
   "source": [
    "## Exponential fitting\n",
    "\n",
    "\n",
    "__Note: The section is likly to change, since the current interface is still very rough.__\n",
    "\n",
    "Fitting a decay-associated spectra is a one-liner in skultrafast. If the dataset is dispersion corrected,\n",
    "only a starting guess is necessay."
   ]
  },
  {
   "cell_type": "code",
   "execution_count": null,
   "metadata": {},
   "outputs": [],
   "source": [
    "fit_res = new_ds.fit_exp([-0.0, 0.05, 2, 20, 10000])\n",
    "fit_res.lmfit_res.params.pretty_print()"
   ]
  },
  {
   "cell_type": "markdown",
   "metadata": {},
   "source": [
    "### Plotting the DAS, using old skultrafast functions"
   ]
  },
  {
   "cell_type": "code",
   "execution_count": null,
   "metadata": {},
   "outputs": [],
   "source": [
    "plt.plot(new_ds.t-fit_res.lmfit_res.params['p0'].value, fit_res.fitter.model[:, 200])\n",
    "plt.plot(new_ds.t-fit_res.lmfit_res.params['p0'].value, fit_res.fitter.data[:, 200], 'o', color='k', ms=2)\n",
    "plt.xlim(-1, 10)"
   ]
  },
  {
   "cell_type": "code",
   "execution_count": null,
   "metadata": {},
   "outputs": [],
   "source": [
    "plt.plot(new_ds.wavelengths, fit_res.fitter.c[:, :3])"
   ]
  },
  {
   "cell_type": "code",
   "execution_count": null,
   "metadata": {},
   "outputs": [],
   "source": [
    "plt.plot(new_ds.t, fit_res.fitter.x_vec)"
   ]
  },
  {
   "cell_type": "code",
   "execution_count": null,
   "metadata": {},
   "outputs": [],
   "source": [
    "f = fit_res.fitter\n",
    "plt.plot(np.dot(f.c, f.x_vec.T).T[:, 200])"
   ]
  },
  {
   "cell_type": "code",
   "execution_count": null,
   "metadata": {},
   "outputs": [],
   "source": [
    "f.x_"
   ]
  }
 ],
 "metadata": {
  "kernelspec": {
   "display_name": "Python 3",
   "language": "python",
   "name": "python3"
  },
  "language_info": {
   "codemirror_mode": {
    "name": "ipython",
    "version": 3
   },
   "file_extension": ".py",
   "mimetype": "text/x-python",
   "name": "python",
   "nbconvert_exporter": "python",
   "pygments_lexer": "ipython3",
   "version": "3.6.3"
  }
 },
 "nbformat": 4,
 "nbformat_minor": 2
}
