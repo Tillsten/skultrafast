{
 "cells": [
  {
   "cell_type": "markdown",
   "metadata": {},
   "source": [
    "# Example: Vis-pump vis-probe on Corroles, analyzed with skultrafast.dataset\n",
    "\n",
    "skultrafast is a package mainly for working with time-resolved spectra. The notebook shows how to\n",
    "use the new dataset-class to work with such a spectra and to fit it with a exponetial model. First we import\n",
    "the necessary modules and configure matplotlib to show inline graphics."
   ]
  },
  {
   "cell_type": "code",
   "execution_count": null,
   "metadata": {},
   "outputs": [],
   "source": [
    "%matplotlib inline\n",
    "%load_ext autoreload\n",
    "%autoreload 2\n",
    "import sys\n",
    "sys.path.append('../..')"
   ]
  },
  {
   "cell_type": "code",
   "execution_count": 2,
   "metadata": {},
   "outputs": [
    {
     "ename": "SyntaxError",
     "evalue": "invalid syntax (plot_helpers.py, line 210)",
     "traceback": [
      "Traceback \u001b[1;36m(most recent call last)\u001b[0m:\n",
      "  File \u001b[0;32m\"C:\\Users\\tills\\Anaconda3\\lib\\site-packages\\IPython\\core\\interactiveshell.py\"\u001b[0m, line \u001b[0;32m2910\u001b[0m, in \u001b[0;35mrun_code\u001b[0m\n    exec(code_obj, self.user_global_ns, self.user_ns)\n",
      "  File \u001b[0;32m\"<ipython-input-2-8fab0936ab74>\"\u001b[0m, line \u001b[0;32m4\u001b[0m, in \u001b[0;35m<module>\u001b[0m\n    from skultrafast.dataset import DataSet\n",
      "\u001b[1;36m  File \u001b[1;32m\"c:\\users\\tills\\onedrive\\dokumente\\skultrafast_git\\skultrafast\\dataset.py\"\u001b[1;36m, line \u001b[1;32m7\u001b[1;36m, in \u001b[1;35m<module>\u001b[1;36m\u001b[0m\n\u001b[1;33m    import skultrafast.plot_helpers as ph\u001b[0m\n",
      "\u001b[1;36m  File \u001b[1;32m\"c:\\users\\tills\\onedrive\\dokumente\\skultrafast_git\\skultrafast\\plot_helpers.py\"\u001b[1;36m, line \u001b[1;32m210\u001b[0m\n\u001b[1;33m    else:\u001b[0m\n\u001b[1;37m       ^\u001b[0m\n\u001b[1;31mSyntaxError\u001b[0m\u001b[1;31m:\u001b[0m invalid syntax\n"
     ],
     "output_type": "error"
    }
   ],
   "source": [
    "import numpy as np\n",
    "import matplotlib.pyplot as plt\n",
    "plt.rcParams['figure.dpi'] = 150\n",
    "from skultrafast.dataset import DataSet\n",
    "import skultrafast\n",
    "from skultrafast import data_io\n",
    "print(skultrafast.__file__)\n",
    "skultrafast.__version__"
   ]
  },
  {
   "cell_type": "code",
   "execution_count": null,
   "metadata": {},
   "outputs": [],
   "source": [
    "askultrafast.__path__"
   ]
  },
  {
   "cell_type": "code",
   "execution_count": null,
   "metadata": {},
   "outputs": [],
   "source": [
    "a = np.load(skultrafast.__path__[0] + '\\\\examples\\\\test.npz')\n",
    "wl, data, t = a['wl'], a['data'], a['t']"
   ]
  },
  {
   "cell_type": "code",
   "execution_count": null,
   "metadata": {},
   "outputs": [],
   "source": [
    "\n"
   ]
  },
  {
   "cell_type": "markdown",
   "metadata": {},
   "source": [
    "## Loading data\n",
    "Next, we will load a dataset in textform using `numpy`. The file we load is a table where each column (expect the first which contains the delay times) is the absorbance change of one channel. The first row contains the frequency in wavelengths. We extract seperate arrays for the data, the wavelengths and the delaytimes."
   ]
  },
  {
   "cell_type": "code",
   "execution_count": null,
   "metadata": {},
   "outputs": [],
   "source": [
    "a = np.load(skultrafast.__path__[0] + '\\\\examples\\\\test.npz')\n",
    "wl, data, t = a['wl'], a['data']/3., a['t']*1000-2\n",
    "data_io.save_txt('corrole_ex', wl, t, data)\n",
    "#t = d[1:, 0]\n",
    "#wl = d[0, 1:]\n",
    "#data = d[1:, 1:]"
   ]
  },
  {
   "cell_type": "markdown",
   "metadata": {},
   "source": [
    "Lets look at the constructor of the `DataSet` class:"
   ]
  },
  {
   "cell_type": "code",
   "execution_count": null,
   "metadata": {},
   "outputs": [],
   "source": [
    "help(DataSet.__init__)"
   ]
  },
  {
   "cell_type": "markdown",
   "metadata": {},
   "source": [
    "As we see, we have all the necessay variables, additionlly we can name the dataset. Since the `freq_unit` defaults to 'nm' we don't need to supply this argument."
   ]
  },
  {
   "cell_type": "code",
   "execution_count": null,
   "metadata": {},
   "outputs": [],
   "source": [
    "ds = DataSet(wl, t, data, name=\"Al(tpfc)(py)_2\")"
   ]
  },
  {
   "cell_type": "markdown",
   "metadata": {},
   "source": [
    "## Overview\n",
    "\n",
    "To get an general idea of the transient spectra, it is best to plot some data.  All plotting functions are in the `DataSet.plot` object, which is an instance of `DataSetPlotter`. The plotting functions are using the wavelength scale by default. This can be changed by changing the `freq_unit` of the `DataSetPlotter` object. "
   ]
  },
  {
   "cell_type": "code",
   "execution_count": null,
   "metadata": {},
   "outputs": [],
   "source": [
    "ds.plot.freq_unit = 'nm' # does nothing, since 'nm' is the default\n",
    "# ds.plot.freq_unit = 'cm' would use wavenumbers"
   ]
  },
  {
   "cell_type": "markdown",
   "metadata": {},
   "source": [
    "First, we want to check if the dataset is corrected for dispersion. For that we plot a colormap around the time-zero. "
   ]
  },
  {
   "cell_type": "code",
   "execution_count": null,
   "metadata": {},
   "outputs": [],
   "source": [
    "ds.plot.map(symlog=0, con_step=10., con_filter=(3, 10))\n",
    "plt.ylim(-2, 2)"
   ]
  },
  {
   "cell_type": "markdown",
   "metadata": {},
   "source": [
    "Evidently, the dataset is not corrected for dispersion. Since it is easier to work with a dispersion corrected dataset, we try to get an estimate of the dispersion using the data directly. \n",
    "\n",
    "*skultrafast* does this by first using a simple heuristic for determining the time-zero for each transient. The resulting dispersion curve is then fitted with a polynomial, using a robust fitting method. More details are given in the documentation."
   ]
  },
  {
   "cell_type": "code",
   "execution_count": null,
   "metadata": {},
   "outputs": [],
   "source": [
    "# First calculate and plot the estimate.\n",
    "res = ds.estimate_dispersion(heuristic_args=(2,), deg=3)\n",
    "ds.plot.map(symlog=0, con_step=10., con_filter=(3, 10))\n",
    "plt.ylim(-2, 2)\n",
    "plt.plot(ds.wl, res.polynomial(ds.wl))\n",
    "plt.plot(ds.wl, res.tn)"
   ]
  },
  {
   "cell_type": "markdown",
   "metadata": {},
   "source": [
    "By default, *skultrafast* uses a very simple heuristic to find the time-zero. It looks for the earliest value above a given limit in each transient, and therefore underestimates the time-zero systematically. Therefore we slightly shift the time-zero. \n",
    "\n",
    "This generallay works surprinsingly well. But if the exact time-zero is necessary, I recommend to try other methods or measure the dispersion directly.\n",
    "\n",
    "**WARNING** The cell below changes the dataset inplace. Therefore repeated calls to the cell will shift the time-zero even more."
   ]
  },
  {
   "cell_type": "code",
   "execution_count": null,
   "metadata": {},
   "outputs": [],
   "source": [
    "new_ds = res.correct_ds #warning, this is no copy\n",
    "new_ds.t -= 0.1 "
   ]
  },
  {
   "cell_type": "code",
   "execution_count": null,
   "metadata": {},
   "outputs": [],
   "source": [
    "new_ds.plot.map(con_step=10., con_filter=(3, 5))"
   ]
  },
  {
   "cell_type": "code",
   "execution_count": null,
   "metadata": {},
   "outputs": [],
   "source": [
    "res.correct_ds.plot.spec([-.1, 0.05, 0.3, 1, 2, 150])"
   ]
  },
  {
   "cell_type": "code",
   "execution_count": null,
   "metadata": {},
   "outputs": [],
   "source": [
    "res.correct_ds.plot.trans([500, 620, 680], symlog=1)\n"
   ]
  },
  {
   "cell_type": "code",
   "execution_count": null,
   "metadata": {},
   "outputs": [],
   "source": []
  }
 ],
 "metadata": {
  "kernelspec": {
   "display_name": "Python 3",
   "language": "python",
   "name": "python3"
  },
  "language_info": {
   "codemirror_mode": {
    "name": "ipython",
    "version": 3
   },
   "file_extension": ".py",
   "mimetype": "text/x-python",
   "name": "python",
   "nbconvert_exporter": "python",
   "pygments_lexer": "ipython3",
   "version": "3.6.4"
  }
 },
 "nbformat": 4,
 "nbformat_minor": 2
}
